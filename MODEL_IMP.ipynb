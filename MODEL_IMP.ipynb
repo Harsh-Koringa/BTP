{
 "cells": [
  {
   "cell_type": "code",
   "execution_count": null,
   "id": "ac74045a-bc7e-4087-9053-704f6faba4dc",
   "metadata": {},
   "outputs": [],
   "source": [
    "import torch\n",
    "import numpy as np\n",
    "from sklearn.model_selection import train_test_split\n",
    "\n",
    "# Assuming you have:\n",
    "# - u: decomposed modes [4 modes × 4000 timepoints × 306 channels]\n",
    "# - 200 trials × 4 tasks\n",
    "\n",
    "# 1. Combine modes and create temporal features\n",
    "def create_ltc_features(u_modes):\n",
    "    \"\"\"Convert MVMD outputs to LTC-ready features\"\"\"\n",
    "    # u_modes shape: [num_trials, num_modes, timepoints, channels]\n",
    "    features = []\n",
    "    for trial in u_modes:\n",
    "        # Create mode-channel-time features\n",
    "        trial_features = np.stack([\n",
    "            np.abs(mode)  # Using magnitude of complex components\n",
    "            for mode in trial\n",
    "        ], axis=-1)\n",
    "        features.append(trial_features)\n",
    "    return np.array(features)\n",
    "\n",
    "# 2. Load and preprocess your data\n",
    "# Assuming you've stacked all trials into a single array\n",
    "all_trials = np.load('your_data.npy')  # Shape: [200 trials, 4 modes, 4000 timepoints, 306 channels]\n",
    "\n",
    "# Create features\n",
    "X = create_ltc_features(all_trials)  # Shape: [200, 4000, 306, 4]\n",
    "\n",
    "# Create labels (assuming 4 tasks)\n",
    "y = np.repeat(np.arange(4), 50)  # 50 trials per task\n",
    "\n",
    "# 3. Train/Test Split\n",
    "X_train, X_test, y_train, y_test = train_test_split(\n",
    "    X, y, test_size=0.2, stratify=y, random_state=42\n",
    ")\n",
    "\n",
    "# Convert to PyTorch tensors\n",
    "train_data = torch.utils.data.TensorDataset(\n",
    "    torch.FloatTensor(X_train).permute(0, 3, 1, 2),  # [batch, features, time, channels]\n",
    "    torch.LongTensor(y_train)\n",
    ")\n",
    "test_data = torch.utils.data.TensorDataset(\n",
    "    torch.FloatTensor(X_test).permute(0, 3, 1, 2),\n",
    "    torch.LongTensor(y_test)\n",
    ")\n",
    "\n",
    "# Create data loaders\n",
    "batch_size = 16\n",
    "train_loader = torch.utils.data.DataLoader(train_data, batch_size=batch_size, shuffle=True)\n",
    "test_loader = torch.utils.data.DataLoader(test_data, batch_size=batch_size)"
   ]
  }
 ],
 "metadata": {
  "kernelspec": {
   "display_name": "Python 3 (ipykernel)",
   "language": "python",
   "name": "python3"
  },
  "language_info": {
   "codemirror_mode": {
    "name": "ipython",
    "version": 3
   },
   "file_extension": ".py",
   "mimetype": "text/x-python",
   "name": "python",
   "nbconvert_exporter": "python",
   "pygments_lexer": "ipython3",
   "version": "3.10.7"
  }
 },
 "nbformat": 4,
 "nbformat_minor": 5
}
