{
 "cells": [
  {
   "cell_type": "code",
   "execution_count": 3,
   "metadata": {},
   "outputs": [
    {
     "name": "stdout",
     "output_type": "stream",
     "text": [
      "Keys in the .mat file:\n",
      "- #refs#\n",
      "- dataMAT\n",
      "\n",
      "Fields in 'dataMAT':\n",
      "- fsample\n",
      "- grad\n",
      "- label\n",
      "- time\n",
      "- trial\n",
      "- trialclass\n",
      "- trialinfo\n"
     ]
    }
   ],
   "source": [
    "import h5py\n",
    "import numpy as np\n",
    "\n",
    "mat_file = r'D:\\BTP\\sub-1_ses-1_task-bcimici_meg.mat'\n",
    "\n",
    "with h5py.File(mat_file, 'r') as f:\n",
    "    print(\"Keys in the .mat file:\")\n",
    "    for key in f.keys():\n",
    "        print(\"-\", key)\n",
    "\n",
    "    # Example: Access 'dataMAT' struct\n",
    "    dataMAT = f['dataMAT']\n",
    "    print(\"\\nFields in 'dataMAT':\")\n",
    "    for field in dataMAT:\n",
    "        print(\"-\", field)\n"
   ]
  },
  {
   "cell_type": "code",
   "execution_count": 10,
   "metadata": {},
   "outputs": [
    {
     "name": "stdout",
     "output_type": "stream",
     "text": [
      "Trialinfo shape: (200, 1)\n",
      "First 5 entries:\n",
      "[[1.]\n",
      " [1.]\n",
      " [1.]\n",
      " [1.]\n",
      " [2.]]\n"
     ]
    },
    {
     "ename": "IndexError",
     "evalue": "list index out of range",
     "output_type": "error",
     "traceback": [
      "\u001b[1;31m---------------------------------------------------------------------------\u001b[0m",
      "\u001b[1;31mIndexError\u001b[0m                                Traceback (most recent call last)",
      "Cell \u001b[1;32mIn[10], line 25\u001b[0m\n\u001b[0;32m     22\u001b[0m         trial_data \u001b[38;5;241m=\u001b[39m f[ref][()]\n\u001b[0;32m     23\u001b[0m         trials\u001b[38;5;241m.\u001b[39mappend(trial_data)\n\u001b[1;32m---> 25\u001b[0m \u001b[38;5;28mprint\u001b[39m(\u001b[38;5;124mf\u001b[39m\u001b[38;5;124m\"\u001b[39m\u001b[38;5;124mLoaded \u001b[39m\u001b[38;5;132;01m{\u001b[39;00m\u001b[38;5;28mlen\u001b[39m(trials)\u001b[38;5;132;01m}\u001b[39;00m\u001b[38;5;124m trials. Shape of first trial: \u001b[39m\u001b[38;5;132;01m{\u001b[39;00m\u001b[43mtrials\u001b[49m\u001b[43m[\u001b[49m\u001b[38;5;241;43m0\u001b[39;49m\u001b[43m]\u001b[49m\u001b[38;5;241m.\u001b[39mshape\u001b[38;5;132;01m}\u001b[39;00m\u001b[38;5;124m\"\u001b[39m)\n\u001b[0;32m     27\u001b[0m \u001b[38;5;66;03m# --- Time vectors ---\u001b[39;00m\n\u001b[0;32m     28\u001b[0m times \u001b[38;5;241m=\u001b[39m []\n",
      "\u001b[1;31mIndexError\u001b[0m: list index out of range"
     ]
    }
   ],
   "source": [
    "import h5py\n",
    "import numpy as np\n",
    "\n",
    "mat_file = r'D:\\BTP\\sub-1_ses-1_task-bcimici_meg.mat'\n",
    "\n",
    "with h5py.File(mat_file, 'r') as f:\n",
    "    data = f['dataMAT']\n",
    "\n",
    "    # --- trialinfo ---\n",
    "    trialinfo = np.array(data['trialinfo']).T\n",
    "    print(f\"Trialinfo shape: {trialinfo.shape}\")\n",
    "    print(f\"First 5 entries:\\n{trialinfo[:5]}\")\n",
    "\n",
    "    # --- Trials ---\n",
    "    trials = []\n",
    "    trial_ref = data['trial'][0, 0]  # Single reference\n",
    "    trial_cell = f[trial_ref]       # Dereference into cell array\n",
    "\n",
    "    for i in range(trial_cell.shape[1]):\n",
    "        ref = trial_cell[0, i]\n",
    "        if isinstance(ref, h5py.Reference):\n",
    "            trial_data = f[ref][()]\n",
    "            trials.append(trial_data)\n",
    "\n",
    "    print(f\"Loaded {len(trials)} trials. Shape of first trial: {trials[0].shape}\")\n",
    "\n",
    "    # --- Time vectors ---\n",
    "    times = []\n",
    "    time_ref = data['time'][0, 0]   # Single reference\n",
    "    time_cell = f[time_ref]         # Dereference into cell array\n",
    "\n",
    "    for i in range(time_cell.shape[1]):\n",
    "        ref = time_cell[0, i]\n",
    "        if isinstance(ref, h5py.Reference):\n",
    "            time_data = f[ref][()]\n",
    "            times.append(time_data)\n",
    "\n",
    "    print(f\"Loaded {len(times)} time vectors. Length of first: {len(times[0])}\")\n"
   ]
  },
  {
   "cell_type": "code",
   "execution_count": 2,
   "metadata": {},
   "outputs": [
    {
     "ename": "NotImplementedError",
     "evalue": "Please use HDF reader for matlab v7.3 files, e.g. h5py",
     "output_type": "error",
     "traceback": [
      "\u001b[1;31m---------------------------------------------------------------------------\u001b[0m",
      "\u001b[1;31mNotImplementedError\u001b[0m                       Traceback (most recent call last)",
      "Cell \u001b[1;32mIn[2], line 10\u001b[0m\n\u001b[0;32m      8\u001b[0m \u001b[38;5;66;03m# Load .mat file\u001b[39;00m\n\u001b[0;32m      9\u001b[0m \u001b[38;5;28;01mif\u001b[39;00m os\u001b[38;5;241m.\u001b[39mpath\u001b[38;5;241m.\u001b[39mexists(mat_file):\n\u001b[1;32m---> 10\u001b[0m     data \u001b[38;5;241m=\u001b[39m \u001b[43mloadmat\u001b[49m\u001b[43m(\u001b[49m\u001b[43mmat_file\u001b[49m\u001b[43m)\u001b[49m[\u001b[38;5;124m'\u001b[39m\u001b[38;5;124mdataMAT\u001b[39m\u001b[38;5;124m'\u001b[39m]\n\u001b[0;32m     12\u001b[0m     \u001b[38;5;66;03m# Extract fields from MATLAB struct\u001b[39;00m\n\u001b[0;32m     13\u001b[0m     trials \u001b[38;5;241m=\u001b[39m [data[\u001b[38;5;124m'\u001b[39m\u001b[38;5;124mtrial\u001b[39m\u001b[38;5;124m'\u001b[39m][\u001b[38;5;241m0\u001b[39m, \u001b[38;5;241m0\u001b[39m][i][\u001b[38;5;241m0\u001b[39m] \u001b[38;5;28;01mfor\u001b[39;00m i \u001b[38;5;129;01min\u001b[39;00m \u001b[38;5;28mrange\u001b[39m(data[\u001b[38;5;124m'\u001b[39m\u001b[38;5;124mtrial\u001b[39m\u001b[38;5;124m'\u001b[39m][\u001b[38;5;241m0\u001b[39m, \u001b[38;5;241m0\u001b[39m]\u001b[38;5;241m.\u001b[39mshape[\u001b[38;5;241m0\u001b[39m])]\n",
      "File \u001b[1;32m~\\AppData\\Local\\Programs\\Python\\Python310\\lib\\site-packages\\scipy\\io\\matlab\\_mio.py:226\u001b[0m, in \u001b[0;36mloadmat\u001b[1;34m(file_name, mdict, appendmat, **kwargs)\u001b[0m\n\u001b[0;32m    224\u001b[0m variable_names \u001b[38;5;241m=\u001b[39m kwargs\u001b[38;5;241m.\u001b[39mpop(\u001b[38;5;124m'\u001b[39m\u001b[38;5;124mvariable_names\u001b[39m\u001b[38;5;124m'\u001b[39m, \u001b[38;5;28;01mNone\u001b[39;00m)\n\u001b[0;32m    225\u001b[0m \u001b[38;5;28;01mwith\u001b[39;00m _open_file_context(file_name, appendmat) \u001b[38;5;28;01mas\u001b[39;00m f:\n\u001b[1;32m--> 226\u001b[0m     MR, _ \u001b[38;5;241m=\u001b[39m mat_reader_factory(f, \u001b[38;5;241m*\u001b[39m\u001b[38;5;241m*\u001b[39mkwargs)\n\u001b[0;32m    227\u001b[0m     matfile_dict \u001b[38;5;241m=\u001b[39m MR\u001b[38;5;241m.\u001b[39mget_variables(variable_names)\n\u001b[0;32m    229\u001b[0m \u001b[38;5;28;01mif\u001b[39;00m mdict \u001b[38;5;129;01mis\u001b[39;00m \u001b[38;5;129;01mnot\u001b[39;00m \u001b[38;5;28;01mNone\u001b[39;00m:\n",
      "File \u001b[1;32m~\\AppData\\Local\\Programs\\Python\\Python310\\lib\\site-packages\\scipy\\io\\matlab\\_mio.py:80\u001b[0m, in \u001b[0;36mmat_reader_factory\u001b[1;34m(file_name, appendmat, **kwargs)\u001b[0m\n\u001b[0;32m     78\u001b[0m     \u001b[38;5;28;01mreturn\u001b[39;00m MatFile5Reader(byte_stream, \u001b[38;5;241m*\u001b[39m\u001b[38;5;241m*\u001b[39mkwargs), file_opened\n\u001b[0;32m     79\u001b[0m \u001b[38;5;28;01melif\u001b[39;00m mjv \u001b[38;5;241m==\u001b[39m \u001b[38;5;241m2\u001b[39m:\n\u001b[1;32m---> 80\u001b[0m     \u001b[38;5;28;01mraise\u001b[39;00m \u001b[38;5;167;01mNotImplementedError\u001b[39;00m(\u001b[38;5;124m'\u001b[39m\u001b[38;5;124mPlease use HDF reader for matlab v7.3 \u001b[39m\u001b[38;5;124m'\u001b[39m\n\u001b[0;32m     81\u001b[0m                               \u001b[38;5;124m'\u001b[39m\u001b[38;5;124mfiles, e.g. h5py\u001b[39m\u001b[38;5;124m'\u001b[39m)\n\u001b[0;32m     82\u001b[0m \u001b[38;5;28;01melse\u001b[39;00m:\n\u001b[0;32m     83\u001b[0m     \u001b[38;5;28;01mraise\u001b[39;00m \u001b[38;5;167;01mTypeError\u001b[39;00m(\u001b[38;5;124m'\u001b[39m\u001b[38;5;124mDid not recognize version \u001b[39m\u001b[38;5;132;01m%s\u001b[39;00m\u001b[38;5;124m'\u001b[39m \u001b[38;5;241m%\u001b[39m mjv)\n",
      "\u001b[1;31mNotImplementedError\u001b[0m: Please use HDF reader for matlab v7.3 files, e.g. h5py"
     ]
    }
   ],
   "source": [
    "\n",
    "from scipy.io import loadmat\n",
    "import numpy as np\n",
    "import os\n",
    "\n",
    "# Set path to your .mat file (make sure it's in the same directory)\n",
    "mat_file = r'D:\\\\BTP\\\\sub-1_ses-1_task-bcimici_meg.mat'\n",
    "\n",
    "# Load .mat file\n",
    "if os.path.exists(mat_file):\n",
    "    data = loadmat(mat_file)['dataMAT']\n",
    "    \n",
    "    # Extract fields from MATLAB struct\n",
    "    trials = [data['trial'][0, 0][i][0] for i in range(data['trial'][0, 0].shape[0])]\n",
    "    time = [data['time'][0, 0][i][0] for i in range(data['time'][0, 0].shape[0])]\n",
    "    labels = [str(l[0]) for l in data['label'][0, 0][0]]\n",
    "    fsample = float(data['fsample'][0, 0][0, 0])\n",
    "\n",
    "    print(f\"Loaded {len(trials)} trials with {trials[0].shape[0]} channels and {trials[0].shape[1]} samples each.\")\n",
    "    print(\"Channel Labels:\", labels)\n",
    "    print(\"Sampling Frequency:\", fsample)\n",
    "else:\n",
    "    print(\"MAT file not found. Please place it in the same directory.\")\n"
   ]
  },
  {
   "cell_type": "code",
   "execution_count": 1,
   "metadata": {
    "id": "q0VGMVJJN9w7"
   },
   "outputs": [],
   "source": [
    "import numpy as np\n",
    "from scipy.fftpack import fft, ifft, fftshift, ifftshift\n",
    "\n",
    "def MVMD(signal, alpha, tau, K, DC, init, tol):\n",
    "    x, y = signal.shape\n",
    "    if x > y:\n",
    "        C = y\n",
    "        signal = signal.T\n",
    "    else:\n",
    "        C = x\n",
    "\n",
    "    T = signal.shape[1]\n",
    "    t = np.arange(1, T + 1) / T\n",
    "    freqs = t - 0.5 - 1 / T\n",
    "\n",
    "    # FFT of the signal\n",
    "    f_hat = fftshift(fft(signal, axis=1))\n",
    "    f_hat_plus = f_hat.copy()\n",
    "    f_hat_plus[:, :T//2] = 0  # Set the negative frequencies to zero\n",
    "\n",
    "    # Initialization\n",
    "    N = 500\n",
    "    Alpha = alpha * np.ones(K)\n",
    "    u_hat_plus = np.zeros((N, len(freqs), K, C), dtype=complex)\n",
    "    omega_plus = np.zeros((N, K))\n",
    "\n",
    "    if init == 1:\n",
    "        omega_plus[0, :] = (0.5 / K) * np.arange(K)\n",
    "    elif init == 2:\n",
    "        omega_plus[0, :] = np.sort(np.exp(np.log(1 / T) + (np.log(0.5) - np.log(1 / T)) * np.random.rand(K)))\n",
    "    else:\n",
    "        omega_plus[0, :] = 0\n",
    "\n",
    "    if DC:\n",
    "        omega_plus[0, 0] = 0\n",
    "\n",
    "    lambda_hat = np.zeros((N, len(freqs), C), dtype=complex)\n",
    "    uDiff = tol + np.finfo(float).eps\n",
    "    n = 0\n",
    "    sum_uk = np.zeros((C, len(freqs)), dtype=complex)\n",
    "\n",
    "    # Main algorithm\n",
    "    while uDiff > tol and n < N:\n",
    "        k = 0\n",
    "        for c in range(C):\n",
    "            sum_uk[c, :] = u_hat_plus[n, :, K-1, c] + sum_uk[c, :] - u_hat_plus[n, :, k, c]\n",
    "            u_hat_plus[n+1, :, k, c] = (f_hat_plus[c, :] - sum_uk[c, :] - lambda_hat[n, :, c] / 2) / (1 + Alpha[k] * (freqs - omega_plus[n, k])**2)\n",
    "\n",
    "        if not DC:\n",
    "            temp1 = 0\n",
    "            temp2 = 0\n",
    "            for c in range(C):\n",
    "                numerator = np.sum(freqs * np.abs(u_hat_plus[n+1, :, k, c])**2)\n",
    "                denominator = np.sum(np.abs(u_hat_plus[n+1, :, k, c])**2)\n",
    "                temp1 += numerator\n",
    "                temp2 += denominator\n",
    "            omega_plus[n+1, k] = temp1 / temp2\n",
    "\n",
    "        for k in range(1, K):\n",
    "            for c in range(C):\n",
    "                sum_uk[c, :] = u_hat_plus[n+1, :, k-1, c] + sum_uk[c, :] - u_hat_plus[n, :, k, c]\n",
    "                u_hat_plus[n+1, :, k, c] = (f_hat_plus[c, :] - sum_uk[c, :] - lambda_hat[n, :, c] / 2) / \\\n",
    "                                          (1 + Alpha[k] * (freqs - omega_plus[n, k])**2)\n",
    "\n",
    "            temp1 = 0\n",
    "            temp2 = 0\n",
    "            for c in range(C):\n",
    "                numerator = np.sum(freqs * np.abs(u_hat_plus[n+1, :, k, c])**2)\n",
    "                denominator = np.sum(np.abs(u_hat_plus[n+1, :, k, c])**2)\n",
    "                temp1 += numerator\n",
    "                temp2 += denominator\n",
    "            omega_plus[n+1, k] = temp1 / temp2\n",
    "\n",
    "        for c in range(C):\n",
    "            lambda_hat[n+1, :, c] = lambda_hat[n, :, c] + tau * (np.sum(u_hat_plus[n+1, :, :, c], axis=1) - f_hat_plus[c, :])\n",
    "\n",
    "        n += 1\n",
    "\n",
    "        uDiff = np.finfo(float).eps\n",
    "        for i in range(K):\n",
    "            for c in range(C):\n",
    "                uDiff += np.sum((u_hat_plus[n, :, i, c] - u_hat_plus[n-1, :, i, c]) * \\\n",
    "                                np.conj(u_hat_plus[n, :, i, c] - u_hat_plus[n-1, :, i, c]))\n",
    "        uDiff = np.abs(uDiff)\n",
    "\n",
    "    N = min(N, n)\n",
    "    omega = omega_plus[:N, :]\n",
    "\n",
    "    u_hat = np.zeros((T, K, C), dtype=complex)\n",
    "    for c in range(C):\n",
    "        u_hat[:, :, c] = u_hat_plus[N, :, :, c]\n",
    "\n",
    "    u = np.zeros((K, T, C))\n",
    "    for k in range(K):\n",
    "        for c in range(C):\n",
    "            u[k, :, c] = np.real(ifft(ifftshift(u_hat[:, k, c])))\n",
    "\n",
    "    u_hat = np.zeros((len(freqs), K, C), dtype=complex)\n",
    "    for k in range(K):\n",
    "        for c in range(C):\n",
    "            u_hat[:, k, c] = fftshift(fft(u[k, :, c]))\n",
    "\n",
    "    u_hat = np.transpose(u_hat, (1, 0, 2))\n",
    "\n",
    "    return u, u_hat, omega\n"
   ]
  },
  {
   "cell_type": "code",
   "execution_count": 2,
   "metadata": {
    "colab": {
     "base_uri": "https://localhost:8080/"
    },
    "id": "AgQMrNzRmy2j",
    "outputId": "2a820277-9656-4432-ee3d-503ffc536828"
   },
   "outputs": [
    {
     "name": "stdout",
     "output_type": "stream",
     "text": [
      "Mounted at /content/drive\n"
     ]
    }
   ],
   "source": [
    "from google.colab import drive\n",
    "drive.mount('/content/drive')"
   ]
  },
  {
   "cell_type": "code",
   "execution_count": 3,
   "metadata": {
    "id": "LGm6KaTNm-M4"
   },
   "outputs": [],
   "source": [
    "import numpy as np\n",
    "import matplotlib.pyplot as plt\n",
    "from scipy.io import loadmat"
   ]
  },
  {
   "cell_type": "code",
   "execution_count": 4,
   "metadata": {
    "id": "2wQXPPyYm4x5"
   },
   "outputs": [],
   "source": [
    "# Load data from MATLAB file\n",
    "data = loadmat(\"/content/drive/MyDrive/data_mul.mat\")\n",
    "X = data['data_mul'].T[:256]"
   ]
  },
  {
   "cell_type": "code",
   "execution_count": 5,
   "metadata": {
    "colab": {
     "base_uri": "https://localhost:8080/"
    },
    "id": "2dR_woT9nIgb",
    "outputId": "170b6efb-11bb-4305-a3ff-984e38009794"
   },
   "outputs": [
    {
     "data": {
      "text/plain": [
       "(256, 32)"
      ]
     },
     "execution_count": 5,
     "metadata": {},
     "output_type": "execute_result"
    }
   ],
   "source": [
    "X.shape"
   ]
  },
  {
   "cell_type": "code",
   "execution_count": 22,
   "metadata": {
    "id": "fLDGy7jJlw1M"
   },
   "outputs": [],
   "source": [
    "# Parameters\n",
    "alpha = 2000\n",
    "tau = 0\n",
    "K = 10\n",
    "DC = True\n",
    "init = 1\n",
    "tol = 1e-6\n",
    "\n",
    "# Generate a sample multivariate signal\n",
    "L = X.shape[1]\n",
    "C = X.shape[0]\n",
    "#signal = np.sin(np.random.randn(C, L))\n",
    "signal=X.T\n",
    "# Call MVMD\n",
    "u, u_hat, omega = MVMD(signal, alpha, tau, K, DC, init, tol)"
   ]
  },
  {
   "cell_type": "code",
   "execution_count": 23,
   "metadata": {
    "colab": {
     "base_uri": "https://localhost:8080/"
    },
    "id": "yTE0RGa-njxJ",
    "outputId": "793a3668-54a4-4384-b9b9-ea48fb0cd0b4"
   },
   "outputs": [
    {
     "data": {
      "text/plain": [
       "(10, 256, 32)"
      ]
     },
     "execution_count": 23,
     "metadata": {},
     "output_type": "execute_result"
    }
   ],
   "source": [
    "u.shape"
   ]
  },
  {
   "cell_type": "code",
   "execution_count": 32,
   "metadata": {
    "colab": {
     "base_uri": "https://localhost:8080/",
     "height": 447
    },
    "id": "BV0mgFLclQce",
    "outputId": "0b40c119-0e0b-4263-8944-6d1be324af26"
   },
   "outputs": [
    {
     "data": {
      "text/plain": [
       "[<matplotlib.lines.Line2D at 0x793b55418bd0>]"
      ]
     },
     "execution_count": 32,
     "metadata": {},
     "output_type": "execute_result"
    },
    {
     "data": {
      "image/png": "[encoded data removed]",
      "text/plain": [
       "<Figure size 640x480 with 1 Axes>"
      ]
     },
     "metadata": {},
     "output_type": "display_data"
    }
   ],
   "source": [
    "import matplotlib.pyplot as plt\n",
    "plt.plot(u[0,:,30])"
   ]
  },
  {
   "cell_type": "code",
   "execution_count": null,
   "metadata": {
    "id": "cbJzlxLSA0O7"
   },
   "outputs": [],
   "source": []
  }
 ],
 "metadata": {
  "colab": {
   "provenance": []
  },
  "kernelspec": {
   "display_name": "Python 3 (ipykernel)",
   "language": "python",
   "name": "python3"
  },
  "language_info": {
   "codemirror_mode": {
    "name": "ipython",
    "version": 3
   },
   "file_extension": ".py",
   "mimetype": "text/x-python",
   "name": "python",
   "nbconvert_exporter": "python",
   "pygments_lexer": "ipython3",
   "version": "3.10.7"
  }
 },
 "nbformat": 4,
 "nbformat_minor": 4
}
